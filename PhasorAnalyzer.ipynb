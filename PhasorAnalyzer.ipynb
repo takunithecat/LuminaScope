{
 "cells": [
  {
   "cell_type": "code",
   "execution_count": 33,
   "metadata": {},
   "outputs": [],
   "source": [
    "import numpy as np\n",
    "import matplotlib.pyplot as plt\n",
    "from scipy import ndimage as ndi\n",
    "import cv2 as cv\n",
    "from skimage.segmentation import watershed\n",
    "from skimage.feature import peak_local_max\n",
    "import sklearn\n",
    "from sklearn.cluster import KMeans\n",
    "from collections import Counter\n",
    "from skimage.color import rgb2lab, deltaE_cie76\n",
    "import seaborn as sns\n",
    "import pandas as pd\n",
    "import os\n",
    "import statistics\n",
    "from sklearn.metrics import silhouette_score\n",
    "from sklearn.ensemble import RandomForestClassifier\n",
    "from sklearn.metrics import accuracy_score, confusion_matrix, precision_score, recall_score, ConfusionMatrixDisplay\n",
    "from sklearn.model_selection import RandomizedSearchCV, train_test_split\n",
    "import random"
   ]
  },
  {
   "cell_type": "code",
   "execution_count": 34,
   "metadata": {},
   "outputs": [],
   "source": [
    "class ObjectPhasor:\n",
    "    def __init__(self, G, S, img):\n",
    "        # G and S are both arrays\n",
    "        self.img = img\n",
    "        self.G = G\n",
    "        self.S = S\n",
    "\n",
    "    def get_g(self):\n",
    "        return self.G\n",
    "    \n",
    "    def get_s(self):\n",
    "        return self.S\n",
    "    \n",
    "    def get_img(self):\n",
    "        return self.img"
   ]
  },
  {
   "cell_type": "code",
   "execution_count": 35,
   "metadata": {},
   "outputs": [],
   "source": [
    "def phasors(img, axis):\n",
    "    fft=np.fft.fft(img, axis=axis)\n",
    "    \n",
    "    G=fft[:,:,1].real/fft[:,:,0].real\n",
    "    G=np.nan_to_num(G, nan=0.0)\n",
    "\n",
    "    S=fft[:,:,1].imag/fft[:,:,0].real\n",
    "    S=np.nan_to_num(S, nan=0.0)\n",
    "\n",
    "    Ph=np.arctan2(S[:,:], G[:,:])+np.pi\n",
    "    Ph=np.nan_to_num(Ph, nan=0.0)\n",
    "\n",
    "    Mod=np.sqrt(G**2+S**2)\n",
    "    Mod=np.nan_to_num(Mod, nan=0.0)\n",
    "    \n",
    "    I=fft[0].real\n",
    "    return G, S, Ph, Mod, I"
   ]
  },
  {
   "cell_type": "code",
   "execution_count": 36,
   "metadata": {},
   "outputs": [],
   "source": [
    "def background_subtraction(src):\n",
    "    # Background Subtraction\n",
    "    # Little too strong for image at low exposure\n",
    "    dest = cv.ximgproc.anisotropicDiffusion(src, alpha=0.1, K=10, niters=300)\n",
    "    src = cv.subtract(src, dest)\n",
    "\n",
    "    shifted = cv.pyrMeanShiftFiltering(src, 21, 51)\n",
    "    return shifted "
   ]
  },
  {
   "cell_type": "code",
   "execution_count": 37,
   "metadata": {},
   "outputs": [],
   "source": [
    "def watershed_object(image):\n",
    "    # perform watershed on image and return individual objects in a list\n",
    "\n",
    "    list_masks = []\n",
    "\n",
    "    gray=np.sum(image, axis=2)\n",
    "    Mgray=gray*(gray>40)\n",
    "\n",
    "    distance = ndi.distance_transform_edt(Mgray)\n",
    "    coords = peak_local_max(distance, min_distance=8)\n",
    "    mask = np.zeros(distance.shape, dtype=bool)\n",
    "    mask[tuple(coords.T)] = True\n",
    "    markers, _ = ndi.label(mask)\n",
    "    labels = watershed(-distance, markers, mask=Mgray)\n",
    "    print(\"[INFO] {} unique segments found\".format(len(np.unique(labels)) - 1))\n",
    "\n",
    "    for label in np.unique(labels):\n",
    "        if label == 0:\n",
    "            continue\n",
    "        mask = np.zeros(Mgray.shape, dtype='uint8')\n",
    "        mask[labels == label] = 255\n",
    "\n",
    "        masked = cv.bitwise_and(image, image, mask=mask)\n",
    "\n",
    "        list_masks.append(masked)\n",
    "    \n",
    "    return list_masks"
   ]
  },
  {
   "cell_type": "code",
   "execution_count": 38,
   "metadata": {},
   "outputs": [],
   "source": [
    "def RGB2HEX(color):\n",
    "    return \"#{:02x}{:02x}{:02x}\".format(int(color[0]), int(color[1]), int(color[2]))"
   ]
  },
  {
   "cell_type": "code",
   "execution_count": 39,
   "metadata": {},
   "outputs": [],
   "source": [
    "def kmeans_points():\n",
    "    directory = 'Microbeads'\n",
    "\n",
    "    # init list of object phasors\n",
    "    phasor_list = []\n",
    "\n",
    "    # Iterate files in directory\n",
    "    for filename in os.listdir(directory):\n",
    "        f = os.path.join(directory, filename)\n",
    "\n",
    "        # checking if it is a file\n",
    "        if os.path.isfile(f):\n",
    "            image=cv.imread(filename=f)\n",
    "            image=cv.cvtColor(image, cv.COLOR_BGR2RGB) \n",
    "            image = cv.medianBlur(image, 5)\n",
    "\n",
    "            objects = watershed_object(image)\n",
    "\n",
    "            for obj in objects:\n",
    "                # G and S are 2D Arrays of shape (image dim, 3)\n",
    "                G, S, Ph, Mod, I = phasors(obj, axis=2)\n",
    "                temp = ObjectPhasor(G, S, obj)\n",
    "                phasor_list.append(temp)\n",
    "    \n",
    "    data = []\n",
    "    for i in range(len(phasor_list)):\n",
    "        temp = [phasor_list[i].get_g(), phasor_list[i].get_s(), i, phasor_list[i].get_img()]\n",
    "        data.append(temp)\n",
    "        \n",
    "    export_df = pd.DataFrame(data, columns = ['G', 'S', 'ObjNum', 'ObjRef']) \n",
    "\n",
    "    # Flatten all the X, Y, Z and make them into array shape (dim, 3)\n",
    "    X = []\n",
    "    Y = []\n",
    "    Z = []\n",
    "\n",
    "    for i in range(len(phasor_list)):\n",
    "        x = phasor_list[i].get_g().flatten()\n",
    "        y = phasor_list[i].get_s().flatten()\n",
    "        shape = x.shape\n",
    "        z = np.full(shape=shape, fill_value=i)\n",
    "\n",
    "        X.extend(x)\n",
    "        Y.extend(y)\n",
    "        Z.extend(z)\n",
    "\n",
    "\n",
    "    df = pd.DataFrame({\"X\" : X,\n",
    "                       \"Y\" : Y,\n",
    "                       \"Z\" : Z})\n",
    "    \n",
    "    df = df[(df['X'] != 0) & (df['Y'] != 0)] \n",
    "\n",
    "    dataset = df.to_numpy()\n",
    "    xy_sample = df[[\"X\", \"Y\"]]\n",
    "\n",
    "    kmeans = KMeans(n_clusters=2)\n",
    "    kmeans.fit(xy_sample)\n",
    "    labels = kmeans.predict(xy_sample)\n",
    "\n",
    "    silhouette_avg = silhouette_score(xy_sample, labels)\n",
    "    print(\"Silhouette Score:\", silhouette_avg)\n",
    "\n",
    "    df['Labels'] = labels\n",
    "    df = (df.groupby('Z')['Labels'].value_counts()\n",
    "         .rename('counts').reset_index()\n",
    "         .drop_duplicates('Z'))\n",
    "\n",
    "    export_df = export_df.join(df, how='inner',lsuffix='ObjNum', rsuffix='Z')\n",
    "    export_df = export_df[['G', 'S', 'ObjNum', 'Labels']]\n",
    "    \n",
    "    # Plot the data points and their cluster assignments\n",
    "\n",
    "    # fig = plt.figure()\n",
    "    # ax = fig.add_subplot(111, projection='3d')\n",
    "    # ax.scatter(dataset[:, 0], dataset[:, 1], dataset[:, 2], c=labels, cmap='viridis')\n",
    "\n",
    "    # # Set light blue background \n",
    "    # ax.xaxis.set_pane_color((0.8, 0.8, 1.0, 1.0)) \n",
    "    # ax.yaxis.set_pane_color((0.8, 0.8, 1.0, 1.0)) \n",
    "    # ax.zaxis.set_pane_color((0.8, 0.8, 1.0, 1.0))\n",
    "    # ax.set_title(\"K-means Clustering on Phasors\")\n",
    "    # ax.set_xlabel(\"G Value\")\n",
    "    # ax.set_ylabel(\"S Value\")\n",
    "    # ax.set_zlabel(\"Object Number\")\n",
    "    # fig.show()\n",
    "\n",
    "    return export_df"
   ]
  },
  {
   "cell_type": "code",
   "execution_count": 77,
   "metadata": {},
   "outputs": [],
   "source": [
    "def user_grouping():\n",
    "    directory = 'Microbeads'\n",
    "\n",
    "    # init list of object phasors\n",
    "    phasor_list = []\n",
    "\n",
    "    # Iterate files in directory\n",
    "    for filename in os.listdir(directory):\n",
    "        f = os.path.join(directory, filename)\n",
    "\n",
    "        # checking if it is a file\n",
    "        if os.path.isfile(f):\n",
    "            image=cv.imread(filename=f)\n",
    "            image=cv.cvtColor(image, cv.COLOR_BGR2RGB) \n",
    "            image = cv.medianBlur(image, 5)\n",
    "\n",
    "            objects = watershed_object(image)\n",
    "\n",
    "            for obj in objects:\n",
    "                # G and S are 2D Arrays of shape (image dim, 3)\n",
    "                G, S, Ph, Mod, I = phasors(obj, axis=2)\n",
    "                temp = ObjectPhasor(G, S, obj)\n",
    "                phasor_list.append(temp)\n",
    "\n",
    "    data = []\n",
    "    \n",
    "    for i in range(len(phasor_list)):\n",
    "        temp = [phasor_list[i].get_g(), phasor_list[i].get_s(), i, phasor_list[i].get_img()]\n",
    "        data.append(temp)\n",
    "    export_df = pd.DataFrame(data, columns = ['G', 'S', 'ObjNum', 'ObjRef']) \n",
    "\n",
    "    # this value needs work\n",
    "    export_df['Labels'] = export_df.apply(lambda x: 1 if statistics.median([i for i in x['S'].flatten() if i != 0]) <= -0.20 else 0, axis=1)\n",
    "        \n",
    "    return export_df"
   ]
  },
  {
   "cell_type": "code",
   "execution_count": 41,
   "metadata": {},
   "outputs": [],
   "source": [
    "def kmeans_colors(img, n):\n",
    "    image = img\n",
    "    number_of_colors = n\n",
    "\n",
    "    modified_image = image.reshape(image.shape[0]*image.shape[1], 3)\n",
    "    clf = KMeans(n_clusters = number_of_colors)\n",
    "    labels = clf.fit_predict(modified_image)\n",
    "\n",
    "    counts = Counter(labels)\n",
    "\n",
    "    center_colors = clf.cluster_centers_\n",
    "    # We get ordered colors by iterating through the keys\n",
    "    ordered_colors = [center_colors[i] for i in counts.keys()]\n",
    "    hex_colors = [RGB2HEX(ordered_colors[i]) for i in counts.keys()]\n",
    "    rgb_colors = [ordered_colors[i] for i in counts.keys()]\n",
    "\n",
    "    plt.title('Colors Detection', fontsize=20)\n",
    "    plt.pie(counts.values(), labels = hex_colors, colors = hex_colors)\n",
    "    plt.show()\n",
    "    return hex_colors, rgb_colors"
   ]
  },
  {
   "cell_type": "code",
   "execution_count": 42,
   "metadata": {},
   "outputs": [],
   "source": [
    "def color_computing(rgb_colors):\n",
    "    DIFF = []\n",
    "    # init list of object phasors\n",
    "    phasor_list = []\n",
    "\n",
    "    directory = 'Microbeads'\n",
    "\n",
    "    # Iterate files in directory\n",
    "    for filename in os.listdir(directory):\n",
    "        f = os.path.join(directory, filename)\n",
    "\n",
    "        # checking if it is a file\n",
    "        if os.path.isfile(f):\n",
    "            image=cv.imread(filename=f)\n",
    "            image=cv.cvtColor(image, cv.COLOR_BGR2RGB) \n",
    "            image = cv.medianBlur(image, 5)\n",
    "\n",
    "            objects = watershed_object(image)\n",
    "\n",
    "            for obj in objects:\n",
    "                # G and S are 2D Arrays of shape (image dim, 3)\n",
    "                G, S, Ph, Mod, I = phasors(obj, axis=2)\n",
    "                temp = ObjectPhasor(G, S, obj)\n",
    "                phasor_list.append(temp)\n",
    "    \n",
    "    for phasor_object in phasor_list:\n",
    "        DIFF_COLOR = []\n",
    "        for color in range(len(rgb_colors)):\n",
    "            # there is took much black space in the image that this apprach is broken\n",
    "            diff = np.abs(phasor_object.img - rgb_colors[color])\n",
    "            DIFF_COLOR.append(diff.mean())\n",
    "        DIFF.append(DIFF_COLOR)\n",
    "\n",
    "    return np.array(DIFF)"
   ]
  },
  {
   "cell_type": "code",
   "execution_count": 73,
   "metadata": {},
   "outputs": [],
   "source": [
    "def test_accuracy(kmeans_df, user_df):\n",
    "    kmeans_dict = kmeans_df['Labels'].to_dict()\n",
    "    user_dict = user_df['Labels'].to_dict()\n",
    "    accuracy = []\n",
    "    \n",
    "    user_labels = []\n",
    "    for key in kmeans_dict:\n",
    "        user_labels.append(user_dict[key])\n",
    "        if kmeans_dict[key] == user_dict[key]:\n",
    "            accuracy.append(1)\n",
    "        else:\n",
    "            accuracy.append(0)\n",
    "    \n",
    "    score = sum(accuracy) / len(kmeans_dict) * 100\n",
    "    print(score)\n",
    "    # Create the confusion matrix\n",
    "    cm = confusion_matrix(np.array(user_labels), np.array(kmeans_df['Labels']))\n",
    "\n",
    "    ConfusionMatrixDisplay(confusion_matrix=cm).plot()\n",
    "    \n",
    "    \n",
    "    return score\n",
    "    "
   ]
  },
  {
   "cell_type": "code",
   "execution_count": 57,
   "metadata": {},
   "outputs": [],
   "source": [
    "def classify_phasors(df):\n",
    "    # classify into color based on G and S arrays\n",
    "    df['G'] = df['G'].map(lambda x: x.flatten())\n",
    "    df['S'] = df['S'].map(lambda x: x.flatten())\n",
    "    \n",
    "    df['G'] = df['G'].map(lambda x: [i for i in x if i != 0])\n",
    "    df['S'] = df['S'].map(lambda x: [i for i in x if i != 0])\n",
    "\n",
    "    gmax = len(max(df.G, key=len))\n",
    "    smax = len(max(df.S, key=len))\n",
    "\n",
    "    df['G'] = df['G'].map(lambda x: np.pad(x, (0, (gmax - len(x)))))\n",
    "    df['S'] = df['S'].map(lambda x: np.pad(x, (0, (smax - len(x)))))\n",
    "\n",
    "    gcolnames = []\n",
    "    scolnames = []\n",
    "    for i in range(len(df['G'][0])):\n",
    "        temp = 'G' + f'{i}'\n",
    "        gcolnames.append(temp)\n",
    "    for i in range(len(df['S'][0])):\n",
    "        temp = 'S' + f'{i}'\n",
    "        scolnames.append(temp)\n",
    "\n",
    "    df[gcolnames] = pd.DataFrame(df.G.tolist(), index= df.index)\n",
    "    df[scolnames] = pd.DataFrame(df.S.tolist(), index= df.index)\n",
    "\n",
    "    X = df.drop(['Labels', 'G', 'S'], axis=1)\n",
    "    y = df['Labels']\n",
    "\n",
    "    X_train, X_test, y_train, y_test = train_test_split(X, y, test_size=0.4)\n",
    "\n",
    "    rf = RandomForestClassifier(n_estimators=250, max_depth=5, random_state=42)\n",
    "    rf.fit(X_train, y_train)\n",
    "\n",
    "    y_pred = rf.predict(X_test)\n",
    "\n",
    "    # Create the confusion matrix\n",
    "    cm = confusion_matrix(y_test, y_pred)\n",
    "\n",
    "    ConfusionMatrixDisplay(confusion_matrix=cm).plot();\n",
    "    \n",
    "    accuracy = accuracy_score(y_test, y_pred)\n",
    "    print(\"Accuracy:\", accuracy)\n",
    "\n",
    "    return y_pred"
   ]
  },
  {
   "cell_type": "code",
   "execution_count": 46,
   "metadata": {},
   "outputs": [
    {
     "name": "stdout",
     "output_type": "stream",
     "text": [
      "[INFO] 2 unique segments found\n"
     ]
    },
    {
     "name": "stderr",
     "output_type": "stream",
     "text": [
      "C:\\Users\\dan-w\\AppData\\Local\\Temp\\ipykernel_31664\\2136470479.py:4: RuntimeWarning: invalid value encountered in divide\n",
      "  G=fft[:,:,1].real/fft[:,:,0].real\n",
      "C:\\Users\\dan-w\\AppData\\Local\\Temp\\ipykernel_31664\\2136470479.py:7: RuntimeWarning: invalid value encountered in divide\n",
      "  S=fft[:,:,1].imag/fft[:,:,0].real\n"
     ]
    },
    {
     "name": "stdout",
     "output_type": "stream",
     "text": [
      "[INFO] 8 unique segments found\n",
      "[INFO] 8 unique segments found\n",
      "[INFO] 9 unique segments found\n",
      "[INFO] 8 unique segments found\n",
      "Silhouette Score: 0.7593294940187907\n"
     ]
    }
   ],
   "source": [
    "df = kmeans_points()"
   ]
  },
  {
   "cell_type": "code",
   "execution_count": 81,
   "metadata": {},
   "outputs": [
    {
     "name": "stdout",
     "output_type": "stream",
     "text": [
      "Accuracy: 0.5\n"
     ]
    },
    {
     "data": {
      "image/png": "[encoded data removed]",
      "text/plain": [
       "<Figure size 640x480 with 2 Axes>"
      ]
     },
     "metadata": {},
     "output_type": "display_data"
    }
   ],
   "source": [
    "pred = classify_phasors(df)"
   ]
  },
  {
   "cell_type": "code",
   "execution_count": 78,
   "metadata": {},
   "outputs": [
    {
     "name": "stdout",
     "output_type": "stream",
     "text": [
      "[INFO] 2 unique segments found\n"
     ]
    },
    {
     "name": "stderr",
     "output_type": "stream",
     "text": [
      "C:\\Users\\dan-w\\AppData\\Local\\Temp\\ipykernel_31664\\2136470479.py:4: RuntimeWarning: invalid value encountered in divide\n",
      "  G=fft[:,:,1].real/fft[:,:,0].real\n",
      "C:\\Users\\dan-w\\AppData\\Local\\Temp\\ipykernel_31664\\2136470479.py:7: RuntimeWarning: invalid value encountered in divide\n",
      "  S=fft[:,:,1].imag/fft[:,:,0].real\n"
     ]
    },
    {
     "name": "stdout",
     "output_type": "stream",
     "text": [
      "[INFO] 8 unique segments found\n",
      "[INFO] 8 unique segments found\n",
      "[INFO] 9 unique segments found\n",
      "[INFO] 8 unique segments found\n",
      "35.714285714285715\n"
     ]
    },
    {
     "data": {
      "image/png": "[encoded data removed]",
      "text/plain": [
       "<Figure size 640x480 with 2 Axes>"
      ]
     },
     "metadata": {},
     "output_type": "display_data"
    }
   ],
   "source": [
    "df2 = user_grouping()\n",
    "score = test_accuracy(df, df2)"
   ]
  },
  {
   "cell_type": "code",
   "execution_count": 80,
   "metadata": {},
   "outputs": [
    {
     "name": "stdout",
     "output_type": "stream",
     "text": [
      "0     1\n",
      "1     1\n",
      "2     1\n",
      "3     1\n",
      "4     1\n",
      "5     1\n",
      "6     1\n",
      "7     1\n",
      "8     1\n",
      "9     1\n",
      "10    1\n",
      "11    1\n",
      "12    1\n",
      "13    1\n",
      "14    1\n",
      "15    1\n",
      "16    1\n",
      "17    1\n",
      "18    1\n",
      "19    1\n",
      "20    1\n",
      "21    1\n",
      "22    1\n",
      "23    1\n",
      "24    1\n",
      "25    1\n",
      "26    1\n",
      "27    1\n",
      "28    1\n",
      "29    1\n",
      "30    1\n",
      "31    1\n",
      "32    1\n",
      "33    1\n",
      "34    1\n",
      "Name: Labels, dtype: int64\n"
     ]
    }
   ],
   "source": [
    "print(df2['Labels'])"
   ]
  },
  {
   "cell_type": "code",
   "execution_count": null,
   "metadata": {},
   "outputs": [],
   "source": [
    "def main():\n",
    "    df = kmeans_points()\n",
    "    # df g and s come in a list, if can split those into columns and create dummies, can random forest classify\n",
    "\n",
    "    # df = df.apply(lambda x: x['G'].flatten(), axis=1)\n",
    "    # print(df['S'])\n",
    "    # for col in df.columns:\n",
    "    #     print(col)\n",
    "    # G_columns = len(df['G'][0])\n",
    "    # S_columns = len(df['S'][0])\n",
    "    # print(G_columns)\n",
    "    # print(S_columns)\n",
    "    # G_col = []\n",
    "    # S_col = []\n",
    "\n",
    "    # for i in range(G_columns):\n",
    "    #     G_col.append(f\"G{i}\")\n",
    "\n",
    "    # for i in range(S_columns):\n",
    "    #     S_col.append(f\"S{i}\")\n",
    "\n",
    "    # df[G_col] = pd.DataFrame(df.G.tolist(), index= df.index)\n",
    "    # df[S_col] = pd.DataFrame(df.S.tolist(), index= df.index)\n",
    "\n",
    "    # print(df)"
   ]
  }
 ],
 "metadata": {
  "kernelspec": {
   "display_name": "Python 3",
   "language": "python",
   "name": "python3"
  },
  "language_info": {
   "codemirror_mode": {
    "name": "ipython",
    "version": 3
   },
   "file_extension": ".py",
   "mimetype": "text/x-python",
   "name": "python",
   "nbconvert_exporter": "python",
   "pygments_lexer": "ipython3",
   "version": "3.10.10"
  }
 },
 "nbformat": 4,
 "nbformat_minor": 2
}
